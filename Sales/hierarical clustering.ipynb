{
 "cells": [
  {
   "cell_type": "code",
   "execution_count": 1,
   "metadata": {},
   "outputs": [],
   "source": [
    "import numpy as np\n",
    "import pandas as pd\n",
    "import matplotlib.pyplot as plt\n",
    "import warnings\n",
    "import os\n",
    "from sklearn.cluster import KMeans\n",
    "warnings.filterwarnings(\"ignore\", category=FutureWarning)"
   ]
  },
  {
   "cell_type": "code",
   "execution_count": 2,
   "metadata": {},
   "outputs": [],
   "source": [
    "df = pd.read_excel(os.getcwd()+\"\\Sales_Data.xlsx\")\n"
   ]
  },
  {
   "cell_type": "code",
   "execution_count": 3,
   "metadata": {},
   "outputs": [
    {
     "data": {
      "text/html": [
       "<div>\n",
       "<style scoped>\n",
       "    .dataframe tbody tr th:only-of-type {\n",
       "        vertical-align: middle;\n",
       "    }\n",
       "\n",
       "    .dataframe tbody tr th {\n",
       "        vertical-align: top;\n",
       "    }\n",
       "\n",
       "    .dataframe thead th {\n",
       "        text-align: right;\n",
       "    }\n",
       "</style>\n",
       "<table border=\"1\" class=\"dataframe\">\n",
       "  <thead>\n",
       "    <tr style=\"text-align: right;\">\n",
       "      <th></th>\n",
       "      <th>Customer</th>\n",
       "      <th>Percent Gross Profit</th>\n",
       "      <th>Gross Sales</th>\n",
       "      <th>Gross Profit</th>\n",
       "      <th>Industry Code</th>\n",
       "      <th>Competitive Rating*</th>\n",
       "    </tr>\n",
       "  </thead>\n",
       "  <tbody>\n",
       "    <tr>\n",
       "      <th>0</th>\n",
       "      <td>4</td>\n",
       "      <td>0.22</td>\n",
       "      <td>249</td>\n",
       "      <td>54.78</td>\n",
       "      <td>5</td>\n",
       "      <td>1</td>\n",
       "    </tr>\n",
       "    <tr>\n",
       "      <th>1</th>\n",
       "      <td>5</td>\n",
       "      <td>0.21</td>\n",
       "      <td>476</td>\n",
       "      <td>99.96</td>\n",
       "      <td>5</td>\n",
       "      <td>1</td>\n",
       "    </tr>\n",
       "    <tr>\n",
       "      <th>2</th>\n",
       "      <td>44</td>\n",
       "      <td>0.37</td>\n",
       "      <td>31019</td>\n",
       "      <td>11477.03</td>\n",
       "      <td>6</td>\n",
       "      <td>1</td>\n",
       "    </tr>\n",
       "    <tr>\n",
       "      <th>3</th>\n",
       "      <td>19</td>\n",
       "      <td>0.60</td>\n",
       "      <td>3864</td>\n",
       "      <td>2318.40</td>\n",
       "      <td>7</td>\n",
       "      <td>1</td>\n",
       "    </tr>\n",
       "    <tr>\n",
       "      <th>4</th>\n",
       "      <td>24</td>\n",
       "      <td>0.32</td>\n",
       "      <td>4711</td>\n",
       "      <td>1507.52</td>\n",
       "      <td>7</td>\n",
       "      <td>1</td>\n",
       "    </tr>\n",
       "  </tbody>\n",
       "</table>\n",
       "</div>"
      ],
      "text/plain": [
       "   Customer   Percent Gross Profit  Gross Sales  Gross Profit  Industry Code  \\\n",
       "0         4                   0.22          249         54.78              5   \n",
       "1         5                   0.21          476         99.96              5   \n",
       "2        44                   0.37        31019      11477.03              6   \n",
       "3        19                   0.60         3864       2318.40              7   \n",
       "4        24                   0.32         4711       1507.52              7   \n",
       "\n",
       "   Competitive Rating*  \n",
       "0                    1  \n",
       "1                    1  \n",
       "2                    1  \n",
       "3                    1  \n",
       "4                    1  "
      ]
     },
     "execution_count": 3,
     "metadata": {},
     "output_type": "execute_result"
    }
   ],
   "source": [
    "df.head()"
   ]
  },
  {
   "cell_type": "code",
   "execution_count": 4,
   "metadata": {},
   "outputs": [
    {
     "data": {
      "text/html": [
       "<div>\n",
       "<style scoped>\n",
       "    .dataframe tbody tr th:only-of-type {\n",
       "        vertical-align: middle;\n",
       "    }\n",
       "\n",
       "    .dataframe tbody tr th {\n",
       "        vertical-align: top;\n",
       "    }\n",
       "\n",
       "    .dataframe thead th {\n",
       "        text-align: right;\n",
       "    }\n",
       "</style>\n",
       "<table border=\"1\" class=\"dataframe\">\n",
       "  <thead>\n",
       "    <tr style=\"text-align: right;\">\n",
       "      <th></th>\n",
       "      <th>Customer</th>\n",
       "      <th>Percent Gross Profit</th>\n",
       "      <th>Gross Sales</th>\n",
       "      <th>Gross Profit</th>\n",
       "      <th>Industry Code</th>\n",
       "      <th>Competitive Rating*</th>\n",
       "    </tr>\n",
       "  </thead>\n",
       "  <tbody>\n",
       "    <tr>\n",
       "      <th>count</th>\n",
       "      <td>60.000000</td>\n",
       "      <td>60.000000</td>\n",
       "      <td>60.000000</td>\n",
       "      <td>60.000000</td>\n",
       "      <td>60.000000</td>\n",
       "      <td>60.000000</td>\n",
       "    </tr>\n",
       "    <tr>\n",
       "      <th>mean</th>\n",
       "      <td>30.500000</td>\n",
       "      <td>0.211925</td>\n",
       "      <td>25016.500000</td>\n",
       "      <td>4239.164583</td>\n",
       "      <td>4.483333</td>\n",
       "      <td>3.000000</td>\n",
       "    </tr>\n",
       "    <tr>\n",
       "      <th>std</th>\n",
       "      <td>17.464249</td>\n",
       "      <td>0.114014</td>\n",
       "      <td>36344.568583</td>\n",
       "      <td>5811.729263</td>\n",
       "      <td>1.899970</td>\n",
       "      <td>1.089239</td>\n",
       "    </tr>\n",
       "    <tr>\n",
       "      <th>min</th>\n",
       "      <td>1.000000</td>\n",
       "      <td>0.030000</td>\n",
       "      <td>170.000000</td>\n",
       "      <td>40.600000</td>\n",
       "      <td>1.000000</td>\n",
       "      <td>1.000000</td>\n",
       "    </tr>\n",
       "    <tr>\n",
       "      <th>25%</th>\n",
       "      <td>15.750000</td>\n",
       "      <td>0.140000</td>\n",
       "      <td>2645.750000</td>\n",
       "      <td>435.060000</td>\n",
       "      <td>3.000000</td>\n",
       "      <td>2.000000</td>\n",
       "    </tr>\n",
       "    <tr>\n",
       "      <th>50%</th>\n",
       "      <td>30.500000</td>\n",
       "      <td>0.200000</td>\n",
       "      <td>6760.000000</td>\n",
       "      <td>1662.430000</td>\n",
       "      <td>5.000000</td>\n",
       "      <td>3.000000</td>\n",
       "    </tr>\n",
       "    <tr>\n",
       "      <th>75%</th>\n",
       "      <td>45.250000</td>\n",
       "      <td>0.245000</td>\n",
       "      <td>32171.000000</td>\n",
       "      <td>5690.385000</td>\n",
       "      <td>6.000000</td>\n",
       "      <td>4.000000</td>\n",
       "    </tr>\n",
       "    <tr>\n",
       "      <th>max</th>\n",
       "      <td>60.000000</td>\n",
       "      <td>0.600000</td>\n",
       "      <td>179101.000000</td>\n",
       "      <td>25379.340000</td>\n",
       "      <td>7.000000</td>\n",
       "      <td>5.000000</td>\n",
       "    </tr>\n",
       "  </tbody>\n",
       "</table>\n",
       "</div>"
      ],
      "text/plain": [
       "        Customer   Percent Gross Profit    Gross Sales  Gross Profit  \\\n",
       "count  60.000000              60.000000      60.000000     60.000000   \n",
       "mean   30.500000               0.211925   25016.500000   4239.164583   \n",
       "std    17.464249               0.114014   36344.568583   5811.729263   \n",
       "min     1.000000               0.030000     170.000000     40.600000   \n",
       "25%    15.750000               0.140000    2645.750000    435.060000   \n",
       "50%    30.500000               0.200000    6760.000000   1662.430000   \n",
       "75%    45.250000               0.245000   32171.000000   5690.385000   \n",
       "max    60.000000               0.600000  179101.000000  25379.340000   \n",
       "\n",
       "       Industry Code  Competitive Rating*  \n",
       "count      60.000000            60.000000  \n",
       "mean        4.483333             3.000000  \n",
       "std         1.899970             1.089239  \n",
       "min         1.000000             1.000000  \n",
       "25%         3.000000             2.000000  \n",
       "50%         5.000000             3.000000  \n",
       "75%         6.000000             4.000000  \n",
       "max         7.000000             5.000000  "
      ]
     },
     "execution_count": 4,
     "metadata": {},
     "output_type": "execute_result"
    }
   ],
   "source": [
    "df.describe()"
   ]
  },
  {
   "cell_type": "code",
   "execution_count": 5,
   "metadata": {},
   "outputs": [],
   "source": [
    "df.columns=['customer','percent_gross_profit','gross_sales','gross_profit','industry_code','competitive_rating']"
   ]
  },
  {
   "cell_type": "code",
   "execution_count": 6,
   "metadata": {},
   "outputs": [
    {
     "data": {
      "text/html": [
       "<div>\n",
       "<style scoped>\n",
       "    .dataframe tbody tr th:only-of-type {\n",
       "        vertical-align: middle;\n",
       "    }\n",
       "\n",
       "    .dataframe tbody tr th {\n",
       "        vertical-align: top;\n",
       "    }\n",
       "\n",
       "    .dataframe thead th {\n",
       "        text-align: right;\n",
       "    }\n",
       "</style>\n",
       "<table border=\"1\" class=\"dataframe\">\n",
       "  <thead>\n",
       "    <tr style=\"text-align: right;\">\n",
       "      <th></th>\n",
       "      <th>customer</th>\n",
       "      <th>percent_gross_profit</th>\n",
       "      <th>gross_sales</th>\n",
       "      <th>gross_profit</th>\n",
       "      <th>industry_code</th>\n",
       "      <th>competitive_rating</th>\n",
       "    </tr>\n",
       "  </thead>\n",
       "  <tbody>\n",
       "    <tr>\n",
       "      <th>0</th>\n",
       "      <td>4</td>\n",
       "      <td>0.22</td>\n",
       "      <td>249</td>\n",
       "      <td>54.78</td>\n",
       "      <td>5</td>\n",
       "      <td>1</td>\n",
       "    </tr>\n",
       "    <tr>\n",
       "      <th>1</th>\n",
       "      <td>5</td>\n",
       "      <td>0.21</td>\n",
       "      <td>476</td>\n",
       "      <td>99.96</td>\n",
       "      <td>5</td>\n",
       "      <td>1</td>\n",
       "    </tr>\n",
       "    <tr>\n",
       "      <th>2</th>\n",
       "      <td>44</td>\n",
       "      <td>0.37</td>\n",
       "      <td>31019</td>\n",
       "      <td>11477.03</td>\n",
       "      <td>6</td>\n",
       "      <td>1</td>\n",
       "    </tr>\n",
       "    <tr>\n",
       "      <th>3</th>\n",
       "      <td>19</td>\n",
       "      <td>0.60</td>\n",
       "      <td>3864</td>\n",
       "      <td>2318.40</td>\n",
       "      <td>7</td>\n",
       "      <td>1</td>\n",
       "    </tr>\n",
       "    <tr>\n",
       "      <th>4</th>\n",
       "      <td>24</td>\n",
       "      <td>0.32</td>\n",
       "      <td>4711</td>\n",
       "      <td>1507.52</td>\n",
       "      <td>7</td>\n",
       "      <td>1</td>\n",
       "    </tr>\n",
       "  </tbody>\n",
       "</table>\n",
       "</div>"
      ],
      "text/plain": [
       "   customer  percent_gross_profit  gross_sales  gross_profit  industry_code  \\\n",
       "0         4                  0.22          249         54.78              5   \n",
       "1         5                  0.21          476         99.96              5   \n",
       "2        44                  0.37        31019      11477.03              6   \n",
       "3        19                  0.60         3864       2318.40              7   \n",
       "4        24                  0.32         4711       1507.52              7   \n",
       "\n",
       "   competitive_rating  \n",
       "0                   1  \n",
       "1                   1  \n",
       "2                   1  \n",
       "3                   1  \n",
       "4                   1  "
      ]
     },
     "execution_count": 6,
     "metadata": {},
     "output_type": "execute_result"
    }
   ],
   "source": [
    "df.head()"
   ]
  },
  {
   "cell_type": "code",
   "execution_count": 7,
   "metadata": {},
   "outputs": [],
   "source": [
    "df = df.drop(['customer','percent_gross_profit'],axis=1)"
   ]
  },
  {
   "cell_type": "code",
   "execution_count": 8,
   "metadata": {},
   "outputs": [
    {
     "data": {
      "text/html": [
       "<div>\n",
       "<style scoped>\n",
       "    .dataframe tbody tr th:only-of-type {\n",
       "        vertical-align: middle;\n",
       "    }\n",
       "\n",
       "    .dataframe tbody tr th {\n",
       "        vertical-align: top;\n",
       "    }\n",
       "\n",
       "    .dataframe thead th {\n",
       "        text-align: right;\n",
       "    }\n",
       "</style>\n",
       "<table border=\"1\" class=\"dataframe\">\n",
       "  <thead>\n",
       "    <tr style=\"text-align: right;\">\n",
       "      <th></th>\n",
       "      <th>gross_sales</th>\n",
       "      <th>gross_profit</th>\n",
       "      <th>industry_code</th>\n",
       "      <th>competitive_rating</th>\n",
       "    </tr>\n",
       "  </thead>\n",
       "  <tbody>\n",
       "    <tr>\n",
       "      <th>0</th>\n",
       "      <td>249</td>\n",
       "      <td>54.78</td>\n",
       "      <td>5</td>\n",
       "      <td>1</td>\n",
       "    </tr>\n",
       "    <tr>\n",
       "      <th>1</th>\n",
       "      <td>476</td>\n",
       "      <td>99.96</td>\n",
       "      <td>5</td>\n",
       "      <td>1</td>\n",
       "    </tr>\n",
       "    <tr>\n",
       "      <th>2</th>\n",
       "      <td>31019</td>\n",
       "      <td>11477.03</td>\n",
       "      <td>6</td>\n",
       "      <td>1</td>\n",
       "    </tr>\n",
       "    <tr>\n",
       "      <th>3</th>\n",
       "      <td>3864</td>\n",
       "      <td>2318.40</td>\n",
       "      <td>7</td>\n",
       "      <td>1</td>\n",
       "    </tr>\n",
       "    <tr>\n",
       "      <th>4</th>\n",
       "      <td>4711</td>\n",
       "      <td>1507.52</td>\n",
       "      <td>7</td>\n",
       "      <td>1</td>\n",
       "    </tr>\n",
       "  </tbody>\n",
       "</table>\n",
       "</div>"
      ],
      "text/plain": [
       "   gross_sales  gross_profit  industry_code  competitive_rating\n",
       "0          249         54.78              5                   1\n",
       "1          476         99.96              5                   1\n",
       "2        31019      11477.03              6                   1\n",
       "3         3864       2318.40              7                   1\n",
       "4         4711       1507.52              7                   1"
      ]
     },
     "execution_count": 8,
     "metadata": {},
     "output_type": "execute_result"
    }
   ],
   "source": [
    "df.head()"
   ]
  },
  {
   "cell_type": "code",
   "execution_count": 9,
   "metadata": {},
   "outputs": [
    {
     "data": {
      "text/plain": [
       "array([[<AxesSubplot:title={'center':'gross_sales'}>,\n",
       "        <AxesSubplot:title={'center':'gross_profit'}>],\n",
       "       [<AxesSubplot:title={'center':'industry_code'}>,\n",
       "        <AxesSubplot:title={'center':'competitive_rating'}>]],\n",
       "      dtype=object)"
      ]
     },
     "execution_count": 9,
     "metadata": {},
     "output_type": "execute_result"
    },
    {
     "data": {
      "image/png": "[encoded data removed]",
      "text/plain": [
       "<Figure size 1440x1080 with 4 Axes>"
      ]
     },
     "metadata": {
      "needs_background": "light"
     },
     "output_type": "display_data"
    }
   ],
   "source": [
    "df.hist(bins=10,figsize=(20,15))"
   ]
  },
  {
   "cell_type": "markdown",
   "metadata": {},
   "source": [
    "# scaling using z scores"
   ]
  },
  {
   "cell_type": "code",
   "execution_count": 10,
   "metadata": {},
   "outputs": [
    {
     "data": {
      "text/html": [
       "<div>\n",
       "<style scoped>\n",
       "    .dataframe tbody tr th:only-of-type {\n",
       "        vertical-align: middle;\n",
       "    }\n",
       "\n",
       "    .dataframe tbody tr th {\n",
       "        vertical-align: top;\n",
       "    }\n",
       "\n",
       "    .dataframe thead th {\n",
       "        text-align: right;\n",
       "    }\n",
       "</style>\n",
       "<table border=\"1\" class=\"dataframe\">\n",
       "  <thead>\n",
       "    <tr style=\"text-align: right;\">\n",
       "      <th></th>\n",
       "      <th>gross_sales</th>\n",
       "      <th>gross_profit</th>\n",
       "      <th>industry_code</th>\n",
       "      <th>competitive_rating</th>\n",
       "    </tr>\n",
       "  </thead>\n",
       "  <tbody>\n",
       "    <tr>\n",
       "      <th>0</th>\n",
       "      <td>-0.687214</td>\n",
       "      <td>-0.726066</td>\n",
       "      <td>0.274229</td>\n",
       "      <td>-1.85164</td>\n",
       "    </tr>\n",
       "    <tr>\n",
       "      <th>1</th>\n",
       "      <td>-0.680916</td>\n",
       "      <td>-0.718226</td>\n",
       "      <td>0.274229</td>\n",
       "      <td>-1.85164</td>\n",
       "    </tr>\n",
       "    <tr>\n",
       "      <th>2</th>\n",
       "      <td>0.166549</td>\n",
       "      <td>1.255899</td>\n",
       "      <td>0.804995</td>\n",
       "      <td>-1.85164</td>\n",
       "    </tr>\n",
       "    <tr>\n",
       "      <th>3</th>\n",
       "      <td>-0.586910</td>\n",
       "      <td>-0.333287</td>\n",
       "      <td>1.335760</td>\n",
       "      <td>-1.85164</td>\n",
       "    </tr>\n",
       "    <tr>\n",
       "      <th>4</th>\n",
       "      <td>-0.563409</td>\n",
       "      <td>-0.473989</td>\n",
       "      <td>1.335760</td>\n",
       "      <td>-1.85164</td>\n",
       "    </tr>\n",
       "  </tbody>\n",
       "</table>\n",
       "</div>"
      ],
      "text/plain": [
       "   gross_sales  gross_profit  industry_code  competitive_rating\n",
       "0    -0.687214     -0.726066       0.274229            -1.85164\n",
       "1    -0.680916     -0.718226       0.274229            -1.85164\n",
       "2     0.166549      1.255899       0.804995            -1.85164\n",
       "3    -0.586910     -0.333287       1.335760            -1.85164\n",
       "4    -0.563409     -0.473989       1.335760            -1.85164"
      ]
     },
     "execution_count": 10,
     "metadata": {},
     "output_type": "execute_result"
    }
   ],
   "source": [
    "from scipy.stats import zscore\n",
    "\n",
    "df_scaled = df.apply(zscore)\n",
    "df_scaled.head()"
   ]
  },
  {
   "cell_type": "code",
   "execution_count": 11,
   "metadata": {},
   "outputs": [
    {
     "data": {
      "text/html": [
       "<div>\n",
       "<style scoped>\n",
       "    .dataframe tbody tr th:only-of-type {\n",
       "        vertical-align: middle;\n",
       "    }\n",
       "\n",
       "    .dataframe tbody tr th {\n",
       "        vertical-align: top;\n",
       "    }\n",
       "\n",
       "    .dataframe thead th {\n",
       "        text-align: right;\n",
       "    }\n",
       "</style>\n",
       "<table border=\"1\" class=\"dataframe\">\n",
       "  <thead>\n",
       "    <tr style=\"text-align: right;\">\n",
       "      <th></th>\n",
       "      <th>gross_sales</th>\n",
       "      <th>gross_profit</th>\n",
       "      <th>industry_code</th>\n",
       "      <th>competitive_rating</th>\n",
       "    </tr>\n",
       "  </thead>\n",
       "  <tbody>\n",
       "    <tr>\n",
       "      <th>count</th>\n",
       "      <td>6.000000e+01</td>\n",
       "      <td>6.000000e+01</td>\n",
       "      <td>6.000000e+01</td>\n",
       "      <td>6.000000e+01</td>\n",
       "    </tr>\n",
       "    <tr>\n",
       "      <th>mean</th>\n",
       "      <td>-2.683039e-17</td>\n",
       "      <td>4.255855e-17</td>\n",
       "      <td>-5.551115e-17</td>\n",
       "      <td>1.480297e-17</td>\n",
       "    </tr>\n",
       "    <tr>\n",
       "      <th>std</th>\n",
       "      <td>1.008439e+00</td>\n",
       "      <td>1.008439e+00</td>\n",
       "      <td>1.008439e+00</td>\n",
       "      <td>1.008439e+00</td>\n",
       "    </tr>\n",
       "    <tr>\n",
       "      <th>min</th>\n",
       "      <td>-6.894064e-01</td>\n",
       "      <td>-7.285260e-01</td>\n",
       "      <td>-1.848834e+00</td>\n",
       "      <td>-1.851640e+00</td>\n",
       "    </tr>\n",
       "    <tr>\n",
       "      <th>25%</th>\n",
       "      <td>-6.207127e-01</td>\n",
       "      <td>-6.600802e-01</td>\n",
       "      <td>-7.873024e-01</td>\n",
       "      <td>-9.258201e-01</td>\n",
       "    </tr>\n",
       "    <tr>\n",
       "      <th>50%</th>\n",
       "      <td>-5.065562e-01</td>\n",
       "      <td>-4.471095e-01</td>\n",
       "      <td>2.742289e-01</td>\n",
       "      <td>0.000000e+00</td>\n",
       "    </tr>\n",
       "    <tr>\n",
       "      <th>75%</th>\n",
       "      <td>1.985132e-01</td>\n",
       "      <td>2.518127e-01</td>\n",
       "      <td>8.049946e-01</td>\n",
       "      <td>9.258201e-01</td>\n",
       "    </tr>\n",
       "    <tr>\n",
       "      <th>max</th>\n",
       "      <td>4.275324e+00</td>\n",
       "      <td>3.668199e+00</td>\n",
       "      <td>1.335760e+00</td>\n",
       "      <td>1.851640e+00</td>\n",
       "    </tr>\n",
       "  </tbody>\n",
       "</table>\n",
       "</div>"
      ],
      "text/plain": [
       "        gross_sales  gross_profit  industry_code  competitive_rating\n",
       "count  6.000000e+01  6.000000e+01   6.000000e+01        6.000000e+01\n",
       "mean  -2.683039e-17  4.255855e-17  -5.551115e-17        1.480297e-17\n",
       "std    1.008439e+00  1.008439e+00   1.008439e+00        1.008439e+00\n",
       "min   -6.894064e-01 -7.285260e-01  -1.848834e+00       -1.851640e+00\n",
       "25%   -6.207127e-01 -6.600802e-01  -7.873024e-01       -9.258201e-01\n",
       "50%   -5.065562e-01 -4.471095e-01   2.742289e-01        0.000000e+00\n",
       "75%    1.985132e-01  2.518127e-01   8.049946e-01        9.258201e-01\n",
       "max    4.275324e+00  3.668199e+00   1.335760e+00        1.851640e+00"
      ]
     },
     "execution_count": 11,
     "metadata": {},
     "output_type": "execute_result"
    }
   ],
   "source": [
    "X.describe()"
   ]
  },
  {
   "cell_type": "code",
   "execution_count": 12,
   "metadata": {},
   "outputs": [
    {
     "data": {
      "text/plain": [
       "<AxesSubplot:>"
      ]
     },
     "execution_count": 12,
     "metadata": {},
     "output_type": "execute_result"
    },
    {
     "data": {
      "image/png": "[encoded data removed]",
      "text/plain": [
       "<Figure size 432x288 with 1 Axes>"
      ]
     },
     "metadata": {
      "needs_background": "light"
     },
     "output_type": "display_data"
    }
   ],
   "source": [
    "df_scaled.boxplot()"
   ]
  },
  {
   "cell_type": "markdown",
   "metadata": {},
   "source": [
    "# Scaling using standard scalar"
   ]
  },
  {
   "cell_type": "code",
   "execution_count": 13,
   "metadata": {},
   "outputs": [],
   "source": [
    "# from sklearn.preprocessing import StandardScaler\n",
    "# y = StandardScaler().fit_transform(X)\n",
    "# y"
   ]
  },
  {
   "cell_type": "code",
   "execution_count": 14,
   "metadata": {},
   "outputs": [
    {
     "data": {
      "text/html": [
       "<div>\n",
       "<style scoped>\n",
       "    .dataframe tbody tr th:only-of-type {\n",
       "        vertical-align: middle;\n",
       "    }\n",
       "\n",
       "    .dataframe tbody tr th {\n",
       "        vertical-align: top;\n",
       "    }\n",
       "\n",
       "    .dataframe thead th {\n",
       "        text-align: right;\n",
       "    }\n",
       "</style>\n",
       "<table border=\"1\" class=\"dataframe\">\n",
       "  <thead>\n",
       "    <tr style=\"text-align: right;\">\n",
       "      <th></th>\n",
       "      <th>gross_sales</th>\n",
       "      <th>gross_profit</th>\n",
       "      <th>industry_code</th>\n",
       "      <th>competitive_rating</th>\n",
       "    </tr>\n",
       "  </thead>\n",
       "  <tbody>\n",
       "    <tr>\n",
       "      <th>0</th>\n",
       "      <td>-0.687214</td>\n",
       "      <td>-0.726066</td>\n",
       "      <td>0.274229</td>\n",
       "      <td>-1.85164</td>\n",
       "    </tr>\n",
       "    <tr>\n",
       "      <th>1</th>\n",
       "      <td>-0.680916</td>\n",
       "      <td>-0.718226</td>\n",
       "      <td>0.274229</td>\n",
       "      <td>-1.85164</td>\n",
       "    </tr>\n",
       "    <tr>\n",
       "      <th>2</th>\n",
       "      <td>0.166549</td>\n",
       "      <td>1.255899</td>\n",
       "      <td>0.804995</td>\n",
       "      <td>-1.85164</td>\n",
       "    </tr>\n",
       "    <tr>\n",
       "      <th>3</th>\n",
       "      <td>-0.586910</td>\n",
       "      <td>-0.333287</td>\n",
       "      <td>1.335760</td>\n",
       "      <td>-1.85164</td>\n",
       "    </tr>\n",
       "    <tr>\n",
       "      <th>4</th>\n",
       "      <td>-0.563409</td>\n",
       "      <td>-0.473989</td>\n",
       "      <td>1.335760</td>\n",
       "      <td>-1.85164</td>\n",
       "    </tr>\n",
       "  </tbody>\n",
       "</table>\n",
       "</div>"
      ],
      "text/plain": [
       "   gross_sales  gross_profit  industry_code  competitive_rating\n",
       "0    -0.687214     -0.726066       0.274229            -1.85164\n",
       "1    -0.680916     -0.718226       0.274229            -1.85164\n",
       "2     0.166549      1.255899       0.804995            -1.85164\n",
       "3    -0.586910     -0.333287       1.335760            -1.85164\n",
       "4    -0.563409     -0.473989       1.335760            -1.85164"
      ]
     },
     "execution_count": 14,
     "metadata": {},
     "output_type": "execute_result"
    }
   ],
   "source": [
    "X=df_scaled\n",
    "X.head()"
   ]
  },
  {
   "cell_type": "code",
   "execution_count": null,
   "metadata": {},
   "outputs": [],
   "source": []
  },
  {
   "cell_type": "code",
   "execution_count": 15,
   "metadata": {},
   "outputs": [],
   "source": [
    "from sklearn.decomposition import PCA"
   ]
  },
  {
   "cell_type": "code",
   "execution_count": 16,
   "metadata": {},
   "outputs": [],
   "source": [
    "pca= PCA(n_components=2)\n",
    "X=pca.fit_transform(X)\n",
    "explained_variance = pca.explained_variance_ratio_"
   ]
  },
  {
   "cell_type": "code",
   "execution_count": 17,
   "metadata": {},
   "outputs": [
    {
     "data": {
      "text/plain": [
       "array([[-1.52432404e+00,  1.06245215e+00],\n",
       "       [-1.51486360e+00,  1.06534341e+00],\n",
       "       [ 3.02159203e-01,  2.09218420e+00],\n",
       "       [-1.31228897e+00,  1.95468694e+00],\n",
       "       [-1.38809839e+00,  1.91900725e+00],\n",
       "       [-1.56786147e-01,  2.29290803e+00],\n",
       "       [-1.02101456e+00, -1.05360605e+00],\n",
       "       [-1.08250757e+00, -6.69217231e-01],\n",
       "       [-1.15317255e+00,  1.17720618e-01],\n",
       "       [-1.12134640e+00,  1.29482269e-01],\n",
       "       [-1.13589919e+00,  1.21748849e-01],\n",
       "       [ 6.35518345e-01,  1.15612491e+00],\n",
       "       [ 1.09787736e+00,  1.62725160e+00],\n",
       "       [-1.23595494e+00,  1.30627601e+00],\n",
       "       [-1.20091918e+00,  1.30931859e+00],\n",
       "       [-8.30659372e-01,  1.43179231e+00],\n",
       "       [ 9.79190395e-01,  1.98782880e+00],\n",
       "       [-5.34937151e-01, -1.56297420e+00],\n",
       "       [ 5.90050950e-01, -1.24609338e+00],\n",
       "       [-7.89392930e-01, -1.23453606e+00],\n",
       "       [-7.32738956e-01, -1.22090841e+00],\n",
       "       [-5.72776159e-01, -1.16701752e+00],\n",
       "       [-2.26770846e-01, -1.05916911e+00],\n",
       "       [ 4.90739339e-01, -8.43089848e-01],\n",
       "       [-8.24898086e-01, -8.40160896e-01],\n",
       "       [-5.10127954e-01, -7.42315896e-01],\n",
       "       [-4.30399140e-02, -5.85851081e-01],\n",
       "       [ 2.40368871e-01, -1.19491616e-01],\n",
       "       [ 1.28743126e-01, -1.90442053e-01],\n",
       "       [ 5.78742749e-01, -2.90821782e-02],\n",
       "       [ 2.31410637e+00,  4.51526198e-01],\n",
       "       [-7.88225983e-01, -1.56394226e-02],\n",
       "       [-6.70372978e-01,  2.93408547e-02],\n",
       "       [ 5.73767578e-03,  2.37979745e-01],\n",
       "       [ 3.73408217e-01,  3.54048937e-01],\n",
       "       [-8.60204540e-01,  3.61158959e-01],\n",
       "       [-8.70728850e-01,  3.52834313e-01],\n",
       "       [ 5.21992739e+00,  2.08220917e+00],\n",
       "       [-1.05979795e+00,  7.01452437e-01],\n",
       "       [-1.05365701e+00,  7.03818901e-01],\n",
       "       [-1.00543610e+00,  7.18570261e-01],\n",
       "       [-9.82495656e-01,  7.19881567e-01],\n",
       "       [-5.46291144e-01,  8.46888177e-01],\n",
       "       [ 3.58813563e+00, -1.02645493e+00],\n",
       "       [-8.96758292e-02, -1.68571645e+00],\n",
       "       [-5.90611738e-01, -1.42488785e+00],\n",
       "       [-4.38702235e-01, -1.38030609e+00],\n",
       "       [ 2.56603144e-01, -7.95313375e-01],\n",
       "       [-6.93996226e-01, -6.48987149e-01],\n",
       "       [-5.16723821e-01, -6.08430336e-01],\n",
       "       [ 1.51418889e+00,  4.27135521e-03],\n",
       "       [ 4.47266015e+00,  9.46891826e-01],\n",
       "       [-5.31964003e-01, -1.96358621e-01],\n",
       "       [-6.79717728e-01,  1.56848992e-01],\n",
       "       [ 8.70616288e-01, -2.09172304e+00],\n",
       "       [ 1.79753028e+00, -1.47988409e+00],\n",
       "       [-3.21142891e-01, -1.59884949e+00],\n",
       "       [ 1.60104324e+00, -1.07806397e+00],\n",
       "       [ 3.54209285e+00, -5.15643406e-01],\n",
       "       [ 1.28211295e-02, -1.13163391e+00]])"
      ]
     },
     "execution_count": 17,
     "metadata": {},
     "output_type": "execute_result"
    }
   ],
   "source": [
    "X"
   ]
  },
  {
   "cell_type": "code",
   "execution_count": 18,
   "metadata": {},
   "outputs": [],
   "source": [
    "#X = pd.DataFrame(data = X)"
   ]
  },
  {
   "cell_type": "code",
   "execution_count": 19,
   "metadata": {},
   "outputs": [],
   "source": [
    "#X.head(10)"
   ]
  },
  {
   "cell_type": "code",
   "execution_count": 20,
   "metadata": {},
   "outputs": [],
   "source": [
    "import scipy.cluster.hierarchy as sch\n"
   ]
  },
  {
   "cell_type": "code",
   "execution_count": 21,
   "metadata": {
    "scrolled": true
   },
   "outputs": [
    {
     "data": {
      "image/png": "[encoded data removed]",
      "text/plain": [
       "<Figure size 432x288 with 1 Axes>"
      ]
     },
     "metadata": {
      "needs_background": "light"
     },
     "output_type": "display_data"
    }
   ],
   "source": [
    "dendogram = sch.dendrogram(sch.linkage(X, method='ward'))"
   ]
  },
  {
   "cell_type": "markdown",
   "metadata": {},
   "source": [
    "5 clusters visble"
   ]
  },
  {
   "cell_type": "code",
   "execution_count": 22,
   "metadata": {},
   "outputs": [],
   "source": [
    "# from scipy.cluster.hierarchy import dendrogram, linkage\n",
    "# z_final = linkage(X, 'ward' , metric = 'euclidean')\n",
    "# dendrogram(z_final, truncate_mode = 'lastp', p = 10)\n",
    "# plt.show()"
   ]
  },
  {
   "cell_type": "code",
   "execution_count": 23,
   "metadata": {},
   "outputs": [
    {
     "data": {
      "text/plain": [
       "array([2, 2, 4, 2, 2, 4, 0, 0, 2, 2, 2, 4, 4, 2, 2, 2, 4, 0, 0, 0, 0, 0,\n",
       "       0, 0, 0, 0, 0, 0, 0, 0, 1, 2, 2, 0, 0, 2, 2, 3, 2, 2, 2, 2, 2, 1,\n",
       "       0, 0, 0, 0, 0, 0, 1, 3, 2, 2, 1, 1, 0, 1, 1, 0], dtype=int64)"
      ]
     },
     "execution_count": 23,
     "metadata": {},
     "output_type": "execute_result"
    }
   ],
   "source": [
    "from sklearn.cluster import AgglomerativeClustering\n",
    "hc = AgglomerativeClustering(n_clusters=5, affinity='euclidean',linkage='ward')\n",
    "y_hc = hc.fit_predict(X)\n",
    "y_hc"
   ]
  },
  {
   "cell_type": "code",
   "execution_count": 24,
   "metadata": {},
   "outputs": [
    {
     "data": {
      "image/png": "[encoded data removed]",
      "text/plain": [
       "<Figure size 432x288 with 1 Axes>"
      ]
     },
     "metadata": {
      "needs_background": "light"
     },
     "output_type": "display_data"
    }
   ],
   "source": [
    "plt.scatter(X[y_hc==0, 0], X[y_hc==0, 1], s=100, c='red', label = 'Cluster 1')\n",
    "plt.scatter(X[y_hc==1, 0], X[y_hc==1, 1], s=100, c='green', label = 'Cluster 2')\n",
    "plt.scatter(X[y_hc==2, 0], X[y_hc==2, 1], s=100, c='blue', label = 'Cluster 3')\n",
    "plt.scatter(X[y_hc==3, 0], X[y_hc==3, 1], s=100, c='yellow', label = 'Cluster 4')\n",
    "plt.scatter(X[y_hc==4, 0], X[y_hc==4, 1], s=100, c='grey', label = 'Cluster 5')\n",
    "\n",
    "plt.title('hierarical clustering')\n",
    "plt.xlabel('cluster size')\n",
    "plt.ylabel('euclidean distance')\n",
    "plt.legend()\n",
    "plt.show()"
   ]
  },
  {
   "cell_type": "code",
   "execution_count": 25,
   "metadata": {},
   "outputs": [
    {
     "data": {
      "text/html": [
       "<div>\n",
       "<style scoped>\n",
       "    .dataframe tbody tr th:only-of-type {\n",
       "        vertical-align: middle;\n",
       "    }\n",
       "\n",
       "    .dataframe tbody tr th {\n",
       "        vertical-align: top;\n",
       "    }\n",
       "\n",
       "    .dataframe thead th {\n",
       "        text-align: right;\n",
       "    }\n",
       "</style>\n",
       "<table border=\"1\" class=\"dataframe\">\n",
       "  <thead>\n",
       "    <tr style=\"text-align: right;\">\n",
       "      <th></th>\n",
       "      <th>gross_sales</th>\n",
       "      <th>gross_profit</th>\n",
       "      <th>industry_code</th>\n",
       "      <th>competitive_rating</th>\n",
       "      <th>cluster count</th>\n",
       "    </tr>\n",
       "    <tr>\n",
       "      <th>y_hc</th>\n",
       "      <th></th>\n",
       "      <th></th>\n",
       "      <th></th>\n",
       "      <th></th>\n",
       "      <th></th>\n",
       "    </tr>\n",
       "  </thead>\n",
       "  <tbody>\n",
       "    <tr>\n",
       "      <th>0</th>\n",
       "      <td>14157.120000</td>\n",
       "      <td>2366.084000</td>\n",
       "      <td>3.080000</td>\n",
       "      <td>3.320000</td>\n",
       "      <td>25</td>\n",
       "    </tr>\n",
       "    <tr>\n",
       "      <th>1</th>\n",
       "      <td>80004.857143</td>\n",
       "      <td>10111.834286</td>\n",
       "      <td>3.285714</td>\n",
       "      <td>4.428571</td>\n",
       "      <td>7</td>\n",
       "    </tr>\n",
       "    <tr>\n",
       "      <th>2</th>\n",
       "      <td>4045.571429</td>\n",
       "      <td>921.502143</td>\n",
       "      <td>6.047619</td>\n",
       "      <td>2.428571</td>\n",
       "      <td>21</td>\n",
       "    </tr>\n",
       "    <tr>\n",
       "      <th>3</th>\n",
       "      <td>149977.500000</td>\n",
       "      <td>25226.740000</td>\n",
       "      <td>5.500000</td>\n",
       "      <td>3.500000</td>\n",
       "      <td>2</td>\n",
       "    </tr>\n",
       "    <tr>\n",
       "      <th>4</th>\n",
       "      <td>40423.200000</td>\n",
       "      <td>10921.982000</td>\n",
       "      <td>6.200000</td>\n",
       "      <td>1.600000</td>\n",
       "      <td>5</td>\n",
       "    </tr>\n",
       "  </tbody>\n",
       "</table>\n",
       "</div>"
      ],
      "text/plain": [
       "        gross_sales  gross_profit  industry_code  competitive_rating  \\\n",
       "y_hc                                                                   \n",
       "0      14157.120000   2366.084000       3.080000            3.320000   \n",
       "1      80004.857143  10111.834286       3.285714            4.428571   \n",
       "2       4045.571429    921.502143       6.047619            2.428571   \n",
       "3     149977.500000  25226.740000       5.500000            3.500000   \n",
       "4      40423.200000  10921.982000       6.200000            1.600000   \n",
       "\n",
       "      cluster count  \n",
       "y_hc                 \n",
       "0                25  \n",
       "1                 7  \n",
       "2                21  \n",
       "3                 2  \n",
       "4                 5  "
      ]
     },
     "execution_count": 25,
     "metadata": {},
     "output_type": "execute_result"
    }
   ],
   "source": [
    "df['y_hc']=y_hc\n",
    "df_y_hc = df.groupby('y_hc').mean()\n",
    "y_hc_freq = df['y_hc'].value_counts().sort_index()\n",
    "df_y_hc['cluster count'] = y_hc_freq\n",
    "df_y_hc"
   ]
  },
  {
   "cell_type": "code",
   "execution_count": null,
   "metadata": {},
   "outputs": [],
   "source": []
  },
  {
   "cell_type": "code",
   "execution_count": null,
   "metadata": {},
   "outputs": [],
   "source": []
  }
 ],
 "metadata": {
  "kernelspec": {
   "display_name": "Python 3",
   "language": "python",
   "name": "python3"
  },
  "language_info": {
   "codemirror_mode": {
    "name": "ipython",
    "version": 3
   },
   "file_extension": ".py",
   "mimetype": "text/x-python",
   "name": "python",
   "nbconvert_exporter": "python",
   "pygments_lexer": "ipython3",
   "version": "3.8.5"
  }
 },
 "nbformat": 4,
 "nbformat_minor": 4
}
